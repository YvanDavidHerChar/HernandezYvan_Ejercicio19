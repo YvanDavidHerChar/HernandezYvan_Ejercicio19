{
 "cells": [
  {
   "cell_type": "code",
   "execution_count": 1,
   "metadata": {},
   "outputs": [],
   "source": [
    "import numpy as np\n",
    "import matplotlib.pyplot as plt\n",
    "import pandas as pd # para leer datos\n",
    "import sklearn.manifold\n",
    "import glob\n",
    "import sklearn.cluster\n"
   ]
  },
  {
   "cell_type": "markdown",
   "metadata": {},
   "source": [
    "Nuestro dataset se obtiene de https://www.kaggle.com/moltean/fruits  <br />\n",
    "Por la rapidez del algoritmo solo se tomo del folder test, de una sola fruta, 8 frutas. <br />\n",
    "Organizamos las frutas en un dataset en el que les cambiamos la dimensionalidad y le asignamos a cada una de las frutas un numero"
   ]
  },
  {
   "cell_type": "code",
   "execution_count": 4,
   "metadata": {},
   "outputs": [
    {
     "name": "stdout",
     "output_type": "stream",
     "text": [
      "Una Fruta\n",
      "Una Fruta\n",
      "Una Fruta\n",
      "Una Fruta\n",
      "Una Fruta\n",
      "Una Fruta\n",
      "Una Fruta\n",
      "Una Fruta\n",
      "Una Fruta\n",
      "(1343, 30000)\n",
      "(1343,)\n"
     ]
    }
   ],
   "source": [
    "folderset = [folder for folder in glob.glob(\"Test/\" + \"**/\", recursive=True)]\n",
    "data = []\n",
    "Y = []\n",
    "largo = len(folderset)\n",
    "for i in range(largo):\n",
    "    fruta = folderset[i]\n",
    "    imagenes = glob.glob(\"{}/*.jpg\".format(fruta))\n",
    "    print('Una Fruta')\n",
    "    for imagen in imagenes:\n",
    "        aqui = plt.imread(imagen).flatten()\n",
    "        data.append(np.array(aqui))\n",
    "        Y.append(i)\n",
    "        \n",
    "data = np.array(data)\n",
    "print(np.shape(data))\n",
    "print(np.shape(Y))"
   ]
  },
  {
   "cell_type": "code",
   "execution_count": null,
   "metadata": {},
   "outputs": [],
   "source": [
    "per = np.linspace(5,50,9)\n",
    "\n",
    "for i in range(0,9):\n",
    "    tsne = sklearn.manifold.TSNE(perplexity=np.int_(per[i]))\n",
    "    tsne.fit(data)\n",
    "    embedding = tsne.embedding_\n",
    "    plt.subplot(3,3,i+1)\n",
    "    plt.scatter(embedding[:,0], embedding[:,1], c = Y, cmap='Paired', s=10.0)\n",
    "    plt.colorbar(boundaries=np.arange(9)-0.5).set_ticks(np.arange(9))\n",
    "    plt.title('Perplexity = {}'.format(np.int_(per[i])))\n",
    "plt.tight_layout()\n"
   ]
  },
  {
   "cell_type": "markdown",
   "metadata": {},
   "source": [
    "Es claro como los grupos se definen independientemente de la perplexidad."
   ]
  },
  {
   "cell_type": "code",
   "execution_count": null,
   "metadata": {},
   "outputs": [],
   "source": [
    "# clusters sobre los resultados de tsne\n",
    "n_clusters = 8\n",
    "k_means = sklearn.cluster.KMeans(n_clusters=n_clusters)\n",
    "k_means.fit(embedding) # training\n",
    "cluster = k_means.predict(embedding) # predice a cual cluster corresponde cada elmento\n",
    "distance = k_means.transform(embedding) # calcula la distancia de cada elemento al centro de su cluster"
   ]
  },
  {
   "cell_type": "code",
   "execution_count": null,
   "metadata": {},
   "outputs": [],
   "source": [
    "plt.figure(figsize=(10,12))\n",
    "for i in range(n_clusters):\n",
    "    ii = np.argsort(distance[:,i]) # es el orden de los objetos de menor a mayor a la distancia de su cluster\n",
    "    n_seq = 8\n",
    "    for l, ind in enumerate(ii[:n_seq]):\n",
    "        plt.subplot(n_clusters,n_seq,i*n_seq +l +1)\n",
    "        plt.imshow(imagenes[ind].reshape(8,8))\n",
    "        plt.title(\"D = {:.2f}\".format(distance[ind,i]))\n",
    "        plt.axis('off')\n"
   ]
  },
  {
   "cell_type": "code",
   "execution_count": null,
   "metadata": {},
   "outputs": [],
   "source": []
  }
 ],
 "metadata": {
  "kernelspec": {
   "display_name": "Python 3",
   "language": "python",
   "name": "python3"
  },
  "language_info": {
   "codemirror_mode": {
    "name": "ipython",
    "version": 3
   },
   "file_extension": ".py",
   "mimetype": "text/x-python",
   "name": "python",
   "nbconvert_exporter": "python",
   "pygments_lexer": "ipython3",
   "version": "3.7.6"
  }
 },
 "nbformat": 4,
 "nbformat_minor": 4
}
